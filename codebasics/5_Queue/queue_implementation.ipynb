{
 "cells": [
  {
   "cell_type": "code",
   "execution_count": null,
   "metadata": {},
   "outputs": [],
   "source": [
    "from collections import deque\n",
    "class Queue:\n",
    "  def __init__(self):\n",
    "    self.buffer = deque()\n",
    "\n",
    "  def enqueue(self, val):\n",
    "    self.buffer.appendleft(val)\n",
    "\n",
    "  def dequeue(self):\n",
    "    return self.buffer.pop()\n",
    "\n",
    "  def is_empty(self):\n",
    "    return len(self.buffer) == 0\n",
    "\n",
    "  def size(self):\n",
    "    return len(self.buffer)"
   ]
  },
  {
   "cell_type": "code",
   "execution_count": null,
   "metadata": {},
   "outputs": [],
   "source": [
    "q = Queue()\n",
    "q.enqueue({\n",
    "  'company': \"walmart\",\n",
    "  'price': 131.10,\n",
    "  'timestamp': 'jan 3 11:53am'\n",
    "})\n",
    "q.enqueue({\n",
    "  'company': \"walmart\",\n",
    "  'price': 132.50,\n",
    "  'timestamp': 'jan 3 11:54am'\n",
    "})\n",
    "q.enqueue({\n",
    "  'company': \"walmart\",\n",
    "  'price': 135,\n",
    "  'timestamp': 'jan 3 11:55am'\n",
    "})"
   ]
  },
  {
   "cell_type": "code",
   "execution_count": null,
   "metadata": {},
   "outputs": [],
   "source": [
    "q.dequeue()"
   ]
  },
  {
   "cell_type": "code",
   "execution_count": null,
   "metadata": {},
   "outputs": [],
   "source": [
    "q.is_empty()"
   ]
  }
 ],
 "metadata": {
  "kernelspec": {
   "display_name": "Python 3.10.6 64-bit",
   "language": "python",
   "name": "python3"
  },
  "language_info": {
   "codemirror_mode": {
    "name": "ipython",
    "version": 3
   },
   "file_extension": ".py",
   "mimetype": "text/x-python",
   "name": "python",
   "nbconvert_exporter": "python",
   "pygments_lexer": "ipython3",
   "version": "3.10.6"
  },
  "orig_nbformat": 4,
  "vscode": {
   "interpreter": {
    "hash": "e7370f93d1d0cde622a1f8e1c04877d8463912d04d973331ad4851f04de6915a"
   }
  }
 },
 "nbformat": 4,
 "nbformat_minor": 2
}
