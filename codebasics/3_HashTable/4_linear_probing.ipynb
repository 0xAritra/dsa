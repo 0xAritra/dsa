{
 "cells": [
  {
   "cell_type": "code",
   "execution_count": null,
   "metadata": {},
   "outputs": [],
   "source": [
    "class HashTable:\n",
    "  def __init__(self):\n",
    "    self.MAX = 10\n",
    "    self.arr = [None for i in range(self.MAX)]\n",
    "  \n",
    "  def get_hash(self, key):\n",
    "    h = 0\n",
    "    for c in key:\n",
    "      h += ord(c)\n",
    "    return h % self.MAX\n",
    "\n",
    "  # works but do better - check soln\n",
    "  def __setitem__(self, key, value):\n",
    "    h = self.get_hash(key)\n",
    "    H = h\n",
    "    while self.arr[h] is not None: \n",
    "      if (self.arr[h][0] == key):\n",
    "        self.arr[h] = (key, value)\n",
    "        return\n",
    "      h = (h + 1) % self.MAX\n",
    "      if H == h:\n",
    "        break\n",
    "    if self.arr[h] is None:\n",
    "      self.arr[h] = (key, value)\n",
    "      return\n",
    "    raise Exception(\"full\")\n",
    "\n",
    "  def __getitem__(self, key):\n",
    "    h = self.get_hash(key)\n",
    "    H = h\n",
    "    while self.arr[h] is not None:\n",
    "      if (self.arr[h][0] == key):\n",
    "        return self.arr[h]\n",
    "      h = (h + 1) % self.MAX\n",
    "      if H == h:\n",
    "        break   \n",
    "\n",
    "  def __delitem__(self, key):\n",
    "    h = self.get_hash(key)\n",
    "    H = h\n",
    "    while self.arr[h] is not None:\n",
    "      if (self.arr[h][0] == key):\n",
    "        self.arr[h] = None\n",
    "      h = (h + 1) % self.MAX\n",
    "      if H == h:\n",
    "        break  \n"
   ]
  },
  {
   "cell_type": "code",
   "execution_count": null,
   "metadata": {},
   "outputs": [],
   "source": [
    "ht = HashTable()\n",
    "ht[\"march 6\"] = 20\n",
    "ht[\"march 17\"] = 30\n",
    "ht[\"march 11\"] = 50\n",
    "ht[\"march 12\"] = 79\n",
    "ht[\"march 13\"] = 99\n",
    "ht[\"march 14\"] = 45\n",
    "ht[\"march 15\"] = 1254\n",
    "ht[\"march 28\"] = 120\n",
    "ht[\"dec 27\"] = 544\n",
    "ht[\"march 30\"] = 156\n",
    "# ht[\"march 31\"] = 178\n",
    "ht[\"march 6\"] = 69\n",
    "ht[\"march 17\"] = 420\n",
    "# ht[\"Jan 15\"] = 200\n"
   ]
  },
  {
   "cell_type": "code",
   "execution_count": null,
   "metadata": {},
   "outputs": [],
   "source": [
    "ht[\"dec 27\"]"
   ]
  },
  {
   "cell_type": "code",
   "execution_count": null,
   "metadata": {},
   "outputs": [],
   "source": [
    "del ht[\"march 6\"]"
   ]
  },
  {
   "cell_type": "code",
   "execution_count": null,
   "metadata": {},
   "outputs": [],
   "source": [
    "ht.arr"
   ]
  }
 ],
 "metadata": {
  "kernelspec": {
   "display_name": "Python 3.10.6 64-bit",
   "language": "python",
   "name": "python3"
  },
  "language_info": {
   "codemirror_mode": {
    "name": "ipython",
    "version": 3
   },
   "file_extension": ".py",
   "mimetype": "text/x-python",
   "name": "python",
   "nbconvert_exporter": "python",
   "pygments_lexer": "ipython3",
   "version": "3.10.6"
  },
  "orig_nbformat": 4,
  "vscode": {
   "interpreter": {
    "hash": "e7370f93d1d0cde622a1f8e1c04877d8463912d04d973331ad4851f04de6915a"
   }
  }
 },
 "nbformat": 4,
 "nbformat_minor": 2
}
