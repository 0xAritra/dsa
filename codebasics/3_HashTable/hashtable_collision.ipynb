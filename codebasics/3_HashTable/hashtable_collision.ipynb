{
 "cells": [
  {
   "cell_type": "markdown",
   "metadata": {},
   "source": [
    "# Chaining"
   ]
  },
  {
   "cell_type": "code",
   "execution_count": 58,
   "metadata": {},
   "outputs": [],
   "source": [
    "class HashTable:\n",
    "  def __init__(self):\n",
    "    self.MAX = 10\n",
    "    self.arr = [[] for i in range(self.MAX)]\n",
    "  \n",
    "  def get_hash(self, key):\n",
    "    h = 0\n",
    "    for c in key:\n",
    "      h += ord(c)\n",
    "    return h % self.MAX\n",
    "\n",
    "  # def set(self, key, value):\n",
    "  def __setitem__(self, key, value):\n",
    "    h = self.get_hash(key)\n",
    "    found = False\n",
    "    for idx, el in enumerate(self.arr[h]):\n",
    "      if el[0] == key and len(el) == 2:\n",
    "        self.arr[h][idx] = (key, value)\n",
    "        found = True\n",
    "    if found is not True:\n",
    "      self.arr[h].append((key, value))\n",
    "\n",
    "  def __getitem__(self, key):\n",
    "    h = self.get_hash(key)\n",
    "    for el in self.arr[h]:\n",
    "      if el[0] == key:\n",
    "        return el[1]\n",
    "\n",
    "  def __delitem__(self, key):\n",
    "    h = self.get_hash(key)\n",
    "    for idx, el in enumerate(self.arr[h]):\n",
    "      if el[0] == key:\n",
    "        # self.arr[h].pop(idx)\n",
    "        print(\"del\", idx)\n",
    "        del self.arr[h][idx]"
   ]
  },
  {
   "cell_type": "code",
   "execution_count": 59,
   "metadata": {},
   "outputs": [
    {
     "data": {
      "text/plain": [
       "9"
      ]
     },
     "execution_count": 59,
     "metadata": {},
     "output_type": "execute_result"
    }
   ],
   "source": [
    "ht = HashTable()\n",
    "ht.get_hash('march 6')\n",
    "ht.get_hash('march 17')"
   ]
  },
  {
   "cell_type": "code",
   "execution_count": 60,
   "metadata": {},
   "outputs": [],
   "source": [
    "ht['march 6'] = 5\n",
    "ht['march 7'] = 50\n",
    "ht['march 8'] = 500\n",
    "ht['march 17'] = 40"
   ]
  },
  {
   "cell_type": "code",
   "execution_count": 61,
   "metadata": {},
   "outputs": [],
   "source": [
    "ht['march 6'] = 10"
   ]
  },
  {
   "cell_type": "code",
   "execution_count": 62,
   "metadata": {},
   "outputs": [
    {
     "data": {
      "text/plain": [
       "40"
      ]
     },
     "execution_count": 62,
     "metadata": {},
     "output_type": "execute_result"
    }
   ],
   "source": [
    "ht['march 17']"
   ]
  },
  {
   "cell_type": "code",
   "execution_count": 63,
   "metadata": {},
   "outputs": [
    {
     "name": "stdout",
     "output_type": "stream",
     "text": [
      "del 1\n"
     ]
    }
   ],
   "source": [
    "del ht['march 17']"
   ]
  },
  {
   "cell_type": "code",
   "execution_count": 64,
   "metadata": {},
   "outputs": [
    {
     "data": {
      "text/plain": [
       "[[('march 7', 50)],\n",
       " [('march 8', 500)],\n",
       " [],\n",
       " [],\n",
       " [],\n",
       " [],\n",
       " [],\n",
       " [],\n",
       " [],\n",
       " [('march 6', 10)]]"
      ]
     },
     "execution_count": 64,
     "metadata": {},
     "output_type": "execute_result"
    }
   ],
   "source": [
    "ht.arr"
   ]
  }
 ],
 "metadata": {
  "kernelspec": {
   "display_name": "Python 3.10.6 64-bit",
   "language": "python",
   "name": "python3"
  },
  "language_info": {
   "codemirror_mode": {
    "name": "ipython",
    "version": 3
   },
   "file_extension": ".py",
   "mimetype": "text/x-python",
   "name": "python",
   "nbconvert_exporter": "python",
   "pygments_lexer": "ipython3",
   "version": "3.10.6"
  },
  "orig_nbformat": 4,
  "vscode": {
   "interpreter": {
    "hash": "e7370f93d1d0cde622a1f8e1c04877d8463912d04d973331ad4851f04de6915a"
   }
  }
 },
 "nbformat": 4,
 "nbformat_minor": 2
}
